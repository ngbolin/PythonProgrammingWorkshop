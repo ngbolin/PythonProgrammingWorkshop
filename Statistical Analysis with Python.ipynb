{
 "cells": [
  {
   "cell_type": "markdown",
   "metadata": {},
   "source": [
    "During my recent trip back to [Habbo Hotel](https://habbo.com/hotel), I chanced upon an interesting game - a gambling game. I thought it would be fun to use it as an example for the purpose of this course, since we are equipped with the statistical knowledge, and programming tools to handle these types of questions.\n",
    "\n",
    "So how does the game look like?\n",
    "![Habbo Gambling](images/HabboGambling.png)"
   ]
  },
  {
   "cell_type": "markdown",
   "metadata": {},
   "source": [
    "The game (called Grabber) takes the following form - each person rolls two dice, and if you roll 1 to 3 on both die, you're a winner! Otherwise, you're a loser. Each game costs $1 (you have the option to purchase 6 tries for 5), and the payout table is as follows:\n",
    "\n",
    "|Roll |  1  |  2  |  3  |\n",
    "|-----|:---:|-----|----:|\n",
    "|  1  |  20 |  3  |  2  |\n",
    "|  2  |  3  |  3  |  7  |\n",
    "|  3  |  2  |  7  |  3  |\n",
    "\n",
    "Given this payout table, would you have taken part in the game? Why or why not?"
   ]
  },
  {
   "cell_type": "markdown",
   "metadata": {},
   "source": [
    "For today's class, let's take a look at how we can simulate N number of tries on this game, and how our expected profits look like. To start, let's define a class, $Grabber$"
   ]
  },
  {
   "cell_type": "code",
   "execution_count": 13,
   "metadata": {},
   "outputs": [
    {
     "data": {
      "text/plain": [
       "666.6666666666665"
      ]
     },
     "execution_count": 13,
     "metadata": {},
     "output_type": "execute_result"
    }
   ],
   "source": [
    "(50/36-5/6)*1200"
   ]
  },
  {
   "cell_type": "code",
   "execution_count": 2,
   "metadata": {},
   "outputs": [
    {
     "data": {
      "text/plain": [
       "['Hello', 'World', 'Today']"
      ]
     },
     "execution_count": 2,
     "metadata": {},
     "output_type": "execute_result"
    }
   ],
   "source": [
    "y = \"Hello World Today\"\n",
    "y.split()"
   ]
  },
  {
   "cell_type": "code",
   "execution_count": 4,
   "metadata": {},
   "outputs": [],
   "source": [
    "import random \n",
    "import pandas as pd\n",
    "import numpy as np\n",
    "import matplotlib.pyplot as plt\n",
    "\n",
    "class Grabber:\n",
    "    def __init__(self, cost):\n",
    "        self.cost = cost\n",
    "        \n",
    "    def roll1(self):\n",
    "        return random.randint(1,6)\n",
    "    \n",
    "    def roll2(self):\n",
    "        return random.randint(1,6)\n",
    "    \n",
    "    def payout(self, roll1, roll2):\n",
    "        if (roll1==1 and roll2==1): \n",
    "            return 20\n",
    "        elif (roll1==1 and roll2==2) or (roll1==2 and roll2==1):\n",
    "            return 3\n",
    "        elif (roll1==1 and roll2==3) or (roll1==3 and roll2==1):\n",
    "            return 2\n",
    "        elif (roll1==2 and roll2==2):\n",
    "            return 3\n",
    "        elif (roll1==2 and roll2==3) or (roll1==3 and roll2==2):\n",
    "            return 7\n",
    "        elif (roll1==3 and roll2==3):\n",
    "            return 3\n",
    "        else: \n",
    "            return 0\n",
    "    \n",
    "    def total_payout(self):\n",
    "        # it costs $5 to play 6 times\n",
    "        # 1 per go otherwise\n",
    "        # Suppose cost = 10, first term = 12, second term = 0 - 12 games\n",
    "        # Suppose cost = 6, first term = 6, second term = 1 - 7 games\n",
    "        N = int(self.cost/5)*6 + (self.cost-int(self.cost/5)*5)\n",
    "        \n",
    "        payout = 0\n",
    "        for i in range(N):\n",
    "            roll1 = self.roll1()\n",
    "            roll2 = self.roll2()\n",
    "            payout += self.payout(roll1, roll2)\n",
    "        return payout"
   ]
  },
  {
   "cell_type": "code",
   "execution_count": 16,
   "metadata": {},
   "outputs": [],
   "source": [
    "cost = 1000 # This gives me a total of 1200 games\n",
    "sim = 10000 # This gives me a total of 10000 simulations, 12m games\n",
    "game = Grabber(cost)\n",
    "\n",
    "profits_list = []\n",
    "\n",
    "# The following code block runs 1k simulations, collects profits for each simulation\n",
    "for j in range(sim):\n",
    "    payout = 0\n",
    "    \n",
    "    payout = game.total_payout()\n",
    "    profits = payout-cost\n",
    "    profits_list.append(profits)"
   ]
  },
  {
   "cell_type": "code",
   "execution_count": 17,
   "metadata": {},
   "outputs": [
    {
     "data": {
      "text/plain": [
       "667.441"
      ]
     },
     "execution_count": 17,
     "metadata": {},
     "output_type": "execute_result"
    }
   ],
   "source": [
    "np.mean(profits_list)"
   ]
  },
  {
   "cell_type": "code",
   "execution_count": 7,
   "metadata": {},
   "outputs": [
    {
     "data": {
      "text/plain": [
       "128.56050365489395"
      ]
     },
     "execution_count": 7,
     "metadata": {},
     "output_type": "execute_result"
    }
   ],
   "source": [
    "np.std(profits_list)"
   ]
  },
  {
   "cell_type": "code",
   "execution_count": 8,
   "metadata": {},
   "outputs": [
    {
     "data": {
      "image/png": "[encoded data removed]",
      "text/plain": [
       "<matplotlib.figure.Figure at 0x7ff3f3d17978>"
      ]
     },
     "metadata": {},
     "output_type": "display_data"
    }
   ],
   "source": [
    "plt.hist(profits_list)\n",
    "plt.show()"
   ]
  },
  {
   "cell_type": "code",
   "execution_count": 9,
   "metadata": {},
   "outputs": [
    {
     "data": {
      "text/plain": [
       "921.4510073097879"
      ]
     },
     "execution_count": 9,
     "metadata": {},
     "output_type": "execute_result"
    }
   ],
   "source": [
    "np.mean(profits_list)+2*np.std(profits_list)"
   ]
  },
  {
   "cell_type": "code",
   "execution_count": 10,
   "metadata": {},
   "outputs": [
    {
     "data": {
      "text/plain": [
       "407.20899269021214"
      ]
     },
     "execution_count": 10,
     "metadata": {},
     "output_type": "execute_result"
    }
   ],
   "source": [
    "np.mean(profits_list)-2*np.std(profits_list)"
   ]
  },
  {
   "cell_type": "markdown",
   "metadata": {},
   "source": [
    "Assignment Time\n",
    "\n",
    "After I won quite a bit of money from the previous game, I chanced upon the following game.\n",
    "\n",
    "![Habbo Gambling 2](images/HabboGambling2.png)\n",
    "\n",
    "Now, it costs $5 for a go, or 25 dollars for 6 goes. \n",
    "\n",
    "Use the above template, to calculate the mean and standard deviation of spending 1000 dollars on this game. The payout table is as follows:\n",
    "\n",
    "|Roll |  1  |  2  |  3  |\n",
    "|-----|:---:|-----|----:|\n",
    "|  1  |  30 |  10 |  5  |\n",
    "|  2  |  10 |  15 | 10  |\n",
    "|  3  |  5  |  10 |  5  |"
   ]
  },
  {
   "cell_type": "code",
   "execution_count": 81,
   "metadata": {},
   "outputs": [],
   "source": [
    "class NewGrabber:\n",
    "    def __init__(self, cost):\n",
    "        self.cost = cost\n",
    "        \n",
    "    def roll1(self):\n",
    "        return random.randint(1,6)\n",
    "    \n",
    "    def roll2(self):\n",
    "        return random.randint(1,6)\n",
    "    \n",
    "    def payout(self, roll1, roll2):\n",
    "        # Your code here\n",
    "        pass\n",
    "    \n",
    "    def total_payout(self):\n",
    "        # Your code here\n",
    "        return payout"
   ]
  },
  {
   "cell_type": "code",
   "execution_count": null,
   "metadata": {},
   "outputs": [],
   "source": [
    "cost = 1000\n",
    "sim = 1000\n",
    "newgame = newGrabber(cost)\n",
    "\n",
    "profits_list = []\n",
    "for j in range(sim):\n",
    "    payout = 0\n",
    "    \n",
    "    payout = newgame.total_payout()\n",
    "    profits = payout-N\n",
    "    profits_list.append(profits)"
   ]
  }
 ],
 "metadata": {
  "kernelspec": {
   "display_name": "Python 3",
   "language": "python",
   "name": "python3"
  },
  "language_info": {
   "codemirror_mode": {
    "name": "ipython",
    "version": 3
   },
   "file_extension": ".py",
   "mimetype": "text/x-python",
   "name": "python",
   "nbconvert_exporter": "python",
   "pygments_lexer": "ipython3",
   "version": "3.6.3"
  }
 },
 "nbformat": 4,
 "nbformat_minor": 4
}
